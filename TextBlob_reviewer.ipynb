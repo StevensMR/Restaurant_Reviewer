{
 "cells": [
  {
   "cell_type": "code",
   "execution_count": 1,
   "id": "e60bef96",
   "metadata": {},
   "outputs": [],
   "source": [
    "import pandas as pd\n",
    "import matplotlib.pyplot as plt\n",
    "from wordcloud import WordCloud\n",
    "from textblob import TextBlob\n",
    "from textblob.sentiments import NaiveBayesAnalyzer\n",
    "\n",
    "#Utilized https://www.learnsteps.com/naive-bayesian-text-classifier-using-textblob-python/ as basis for this classifier\n",
    "#Restaurant review dataset from https://www.kaggle.com/datasets/jurk06/restaurant-dataset"
   ]
  },
  {
   "cell_type": "code",
   "execution_count": 2,
   "id": "e01194a3",
   "metadata": {},
   "outputs": [],
   "source": [
    "\n",
    "def prRed(skk): print(\"\\033[91m {}\\033[00m\" .format(skk))\n",
    " \n",
    " \n",
    "def prGreen(skk): print(\"\\033[92m {}\\033[00m\" .format(skk))"
   ]
  },
  {
   "cell_type": "code",
   "execution_count": 3,
   "id": "58b41434",
   "metadata": {},
   "outputs": [],
   "source": [
    "def chartSentiment(text):\n",
    "    df_sent = pd.DataFrame(columns=(\"sentence\",\"NBSentiment\",'polarity'))\n",
    "\n",
    "    blob =  TextBlob(text, analyzer=NaiveBayesAnalyzer())\n",
    "    blob2 =  TextBlob(text)\n",
    "\n",
    "    for idx, (sentence, sentence2) in enumerate(zip(blob.sentences, blob2.sentences)):\n",
    "        if sentence.sentiment.p_neg > sentence.sentiment.p_pos:\n",
    "            prRed(sentence)\n",
    "            df_sent.loc[idx] = [sentence, -sentence.sentiment.p_neg, sentence2.sentiment.polarity]\n",
    "        elif sentence.sentiment.p_pos > sentence.sentiment.p_neg:\n",
    "            prGreen(sentence)\n",
    "            df_sent.loc[idx] = [sentence, sentence.sentiment.p_pos, sentence2.sentiment.polarity]\n",
    "        else:\n",
    "            print(sentence)\n",
    "    df_sent.plot.bar(rot=90)"
   ]
  },
  {
   "cell_type": "code",
   "execution_count": 4,
   "id": "bf74e8df",
   "metadata": {},
   "outputs": [
    {
     "data": {
      "text/plain": [
       "1    500\n",
       "0    500\n",
       "Name: Liked, dtype: int64"
      ]
     },
     "execution_count": 4,
     "metadata": {},
     "output_type": "execute_result"
    }
   ],
   "source": [
    "df_rest = pd.read_csv('Restaurant_Reviews.tsv', sep='\\t')\n",
    "\n",
    "df_rest.head()\n",
    "df_rest.shape\n",
    "df_rest['Liked'].value_counts()"
   ]
  },
  {
   "cell_type": "code",
   "execution_count": 5,
   "id": "d92ac621",
   "metadata": {},
   "outputs": [
    {
     "name": "stdout",
     "output_type": "stream",
     "text": [
      "1000\n",
      "850\n",
      "50\n",
      "500 500\n"
     ]
    }
   ],
   "source": [
    "allReviews = []\n",
    "pos_count = 0\n",
    "neg_count = 0\n",
    "for idx, row in df_rest.iterrows():\n",
    "    if row['Liked'] == 1:\n",
    "        allReviews.append((str(row.Review),'pos'))\n",
    "        pos_count += 1\n",
    "    else:\n",
    "        allReviews.append((str(row.Review),'neg'))\n",
    "        neg_count += 1\n",
    "\n",
    "import random\n",
    "\n",
    "random.shuffle(allReviews)\n",
    "train =  allReviews[:850]\n",
    "update = allReviews[850:950]\n",
    "test =  allReviews[950:]\n",
    "\n",
    "print(len(allReviews))\n",
    "print(len(train))\n",
    "print(len(test))\n",
    "print(pos_count, neg_count)"
   ]
  },
  {
   "cell_type": "code",
   "execution_count": 6,
   "id": "5f11e3a1",
   "metadata": {},
   "outputs": [
    {
     "name": "stdout",
     "output_type": "stream",
     "text": [
      "0.8\n",
      "('My friend loved the salmon tartar.', 'pos') pos\n",
      "('the food is not tasty at all, not to say its \"real traditional Hunan style\".', 'neg') neg\n",
      "('The food is good.', 'pos') pos\n",
      "('The chefs were friendly and did a good job.', 'pos') pos\n",
      "\u001b[92m (\"This was my first time and I can't wait until the next.\", 'pos') neg\u001b[00m\n",
      "('It is PERFECT for a sit-down family meal or get together with a few friends.', 'pos') pos\n",
      "('The steaks are all well trimmed and also perfectly cooked.', 'pos') pos\n",
      "('But the service was beyond bad.', 'neg') neg\n",
      "(\"too bad cause I know it's family owned, I really wanted to like this place.\", 'neg') neg\n",
      "('Of all the dishes, the salmon was the best, but all were great.', 'pos') pos\n",
      "\u001b[91m ('I also decided not to send it back because our waitress looked like she was on the verge of having a heart attack.', 'neg') pos\u001b[00m\n",
      "('The portion was huge!', 'pos') pos\n",
      "('This place is great!!!!!!!!!!!!!!', 'pos') pos\n",
      "(\"Perhaps I caught them on an off night judging by the other reviews, but I'm not inspired to go back.\", 'neg') neg\n",
      "(\"I mean really, how do you get so famous for your fish and chips when it's so terrible!?!\", 'neg') neg\n",
      "('They have a really nice atmosphere.', 'pos') pos\n",
      "('He was terrible!', 'neg') neg\n",
      "('Bacon is hella salty.', 'pos') pos\n",
      "('Good beer & drink selection and good food selection.', 'pos') pos\n",
      "\u001b[91m ('They dropped more than the ball.', 'neg') pos\u001b[00m\n",
      "('Service is quick and friendly.', 'pos') pos\n",
      "('I\\'m so happy to be here!!!\"', 'pos') pos\n",
      "(\"My girlfriend's veal was very bad.\", 'neg') neg\n",
      "('Would not recommend to others.', 'neg') neg\n",
      "('The food was very good.', 'pos') pos\n",
      "('The menu is always changing, food quality is going down & service is extremely slow.', 'neg') neg\n",
      "\u001b[91m ('The scallop dish is quite appalling for value as well.', 'neg') pos\u001b[00m\n",
      "('I could care less... The interior is just beautiful.', 'pos') pos\n",
      "('It lacked flavor, seemed undercooked, and dry.', 'neg') neg\n",
      "('We will not be coming back.', 'neg') neg\n",
      "('The Macarons here are insanely good.', 'pos') pos\n",
      "\u001b[91m ('It was equally awful.', 'neg') pos\u001b[00m\n",
      "('Went in for happy hour, great list of wines.', 'pos') pos\n",
      "\u001b[92m ('I would definitely recommend the wings as well as the pizza.', 'pos') neg\u001b[00m\n",
      "\u001b[92m (\"I can't wait to go back.\", 'pos') neg\u001b[00m\n",
      "('The only reason to eat here would be to fill up before a night of binge drinking just to get some carbs in your stomach.', 'neg') neg\n",
      "('I do love sushi, but I found Kabuki to be over-priced, over-hip and under-services.', 'neg') neg\n",
      "(\"Friend's pasta -- also bad, he barely touched it.\", 'neg') neg\n",
      "('The Han Nan Chicken was also very tasty.', 'pos') pos\n",
      "('I love the Pho and the spring rolls oh so yummy you have to try.', 'pos') pos\n",
      "('I loved the bacon wrapped dates.', 'pos') pos\n",
      "('Never again will I be dining at this place!', 'neg') neg\n",
      "('Your servers suck, wait, correction, our server Heimer sucked.', 'neg') neg\n",
      "\u001b[91m (\"And the red curry had so much bamboo shoots and wasn't very tasty to me.\", 'neg') pos\u001b[00m\n",
      "('Stopped by during the late May bank holiday off Rick Steve recommendation and loved it.', 'pos') pos\n",
      "\u001b[92m (\"I'll definitely be in soon again.\", 'pos') neg\u001b[00m\n",
      "(\"I recently tried Caballero's and I have been back every week since!\", 'pos') pos\n",
      "('The potatoes were like rubber and you could tell they had been made up ahead of time being kept under a warmer.', 'neg') neg\n",
      "\u001b[92m ('This place is two thumbs up....way up.', 'pos') neg\u001b[00m\n",
      "('Awesome selection of beer.', 'pos') pos\n",
      "False Positives:  5  False Negatives:  5\n"
     ]
    }
   ],
   "source": [
    "from textblob.classifiers import NaiveBayesClassifier\n",
    "cl = NaiveBayesClassifier(train)\n",
    "\n",
    "# Lets test the accuracy of the classifier\n",
    "print(cl.accuracy(test))\n",
    "\n",
    "fp = 0\n",
    "fn = 0\n",
    "\n",
    "for x in test:\n",
    "    result = cl.classify(x[0])\n",
    "    if ((x[1] == 'neg') & (result == 'pos')):\n",
    "        prRed(str(x) + \" \" + str(result))\n",
    "        fp += 1\n",
    "    elif ((x[1] == 'pos') & (result == 'neg')):\n",
    "        prGreen(str(x) + \" \" + str(result))\n",
    "        fn += 1\n",
    "    else: print(str(x) + \" \" + str(result))\n",
    "\n",
    "print(\"False Positives: \", fp, \" False Negatives: \", fn)"
   ]
  },
  {
   "cell_type": "code",
   "execution_count": 7,
   "id": "10770013",
   "metadata": {},
   "outputs": [
    {
     "name": "stdout",
     "output_type": "stream",
     "text": [
      "0.8\n",
      "('My friend loved the salmon tartar.', 'pos') pos\n",
      "('the food is not tasty at all, not to say its \"real traditional Hunan style\".', 'neg') neg\n",
      "('The food is good.', 'pos') pos\n",
      "('The chefs were friendly and did a good job.', 'pos') pos\n",
      "\u001b[92m (\"This was my first time and I can't wait until the next.\", 'pos') neg\u001b[00m\n",
      "('It is PERFECT for a sit-down family meal or get together with a few friends.', 'pos') pos\n",
      "('The steaks are all well trimmed and also perfectly cooked.', 'pos') pos\n",
      "('But the service was beyond bad.', 'neg') neg\n",
      "(\"too bad cause I know it's family owned, I really wanted to like this place.\", 'neg') neg\n",
      "('Of all the dishes, the salmon was the best, but all were great.', 'pos') pos\n",
      "\u001b[91m ('I also decided not to send it back because our waitress looked like she was on the verge of having a heart attack.', 'neg') pos\u001b[00m\n",
      "('The portion was huge!', 'pos') pos\n",
      "('This place is great!!!!!!!!!!!!!!', 'pos') pos\n",
      "(\"Perhaps I caught them on an off night judging by the other reviews, but I'm not inspired to go back.\", 'neg') neg\n",
      "(\"I mean really, how do you get so famous for your fish and chips when it's so terrible!?!\", 'neg') neg\n",
      "('They have a really nice atmosphere.', 'pos') pos\n",
      "('He was terrible!', 'neg') neg\n",
      "('Bacon is hella salty.', 'pos') pos\n",
      "('Good beer & drink selection and good food selection.', 'pos') pos\n",
      "\u001b[91m ('They dropped more than the ball.', 'neg') pos\u001b[00m\n",
      "('Service is quick and friendly.', 'pos') pos\n",
      "('I\\'m so happy to be here!!!\"', 'pos') pos\n",
      "(\"My girlfriend's veal was very bad.\", 'neg') neg\n",
      "('Would not recommend to others.', 'neg') neg\n",
      "('The food was very good.', 'pos') pos\n",
      "('The menu is always changing, food quality is going down & service is extremely slow.', 'neg') neg\n",
      "\u001b[91m ('The scallop dish is quite appalling for value as well.', 'neg') pos\u001b[00m\n",
      "('I could care less... The interior is just beautiful.', 'pos') pos\n",
      "('It lacked flavor, seemed undercooked, and dry.', 'neg') neg\n",
      "('We will not be coming back.', 'neg') neg\n",
      "('The Macarons here are insanely good.', 'pos') pos\n",
      "\u001b[91m ('It was equally awful.', 'neg') pos\u001b[00m\n",
      "('Went in for happy hour, great list of wines.', 'pos') pos\n",
      "\u001b[92m ('I would definitely recommend the wings as well as the pizza.', 'pos') neg\u001b[00m\n",
      "\u001b[92m (\"I can't wait to go back.\", 'pos') neg\u001b[00m\n",
      "('The only reason to eat here would be to fill up before a night of binge drinking just to get some carbs in your stomach.', 'neg') neg\n",
      "('I do love sushi, but I found Kabuki to be over-priced, over-hip and under-services.', 'neg') neg\n",
      "(\"Friend's pasta -- also bad, he barely touched it.\", 'neg') neg\n",
      "('The Han Nan Chicken was also very tasty.', 'pos') pos\n",
      "('I love the Pho and the spring rolls oh so yummy you have to try.', 'pos') pos\n",
      "('I loved the bacon wrapped dates.', 'pos') pos\n",
      "('Never again will I be dining at this place!', 'neg') neg\n",
      "('Your servers suck, wait, correction, our server Heimer sucked.', 'neg') neg\n",
      "\u001b[91m (\"And the red curry had so much bamboo shoots and wasn't very tasty to me.\", 'neg') pos\u001b[00m\n",
      "('Stopped by during the late May bank holiday off Rick Steve recommendation and loved it.', 'pos') pos\n",
      "\u001b[92m (\"I'll definitely be in soon again.\", 'pos') neg\u001b[00m\n",
      "(\"I recently tried Caballero's and I have been back every week since!\", 'pos') pos\n",
      "('The potatoes were like rubber and you could tell they had been made up ahead of time being kept under a warmer.', 'neg') neg\n",
      "\u001b[92m ('This place is two thumbs up....way up.', 'pos') neg\u001b[00m\n",
      "('Awesome selection of beer.', 'pos') pos\n",
      "False Positives:  5  False Negatives:  5\n"
     ]
    }
   ],
   "source": [
    "cl.update(update)\n",
    "\n",
    "# Lets test the accuracy of the classifier\n",
    "print(cl.accuracy(test))\n",
    "\n",
    "fp = 0\n",
    "fn = 0\n",
    "\n",
    "for x in test:\n",
    "    result = cl.classify(x[0])\n",
    "    if ((x[1] == 'neg') & (result == 'pos')):\n",
    "        prRed(str(x) + \" \" + str(result))\n",
    "        fp += 1\n",
    "    elif ((x[1] == 'pos') & (result == 'neg')):\n",
    "        prGreen(str(x) + \" \" + str(result))\n",
    "        fn += 1\n",
    "    else: print(str(x) + \" \" + str(result))\n",
    "\n",
    "print(\"False Positives: \", fp, \" False Negatives: \", fn)"
   ]
  },
  {
   "cell_type": "code",
   "execution_count": null,
   "id": "bde7fa4d",
   "metadata": {},
   "outputs": [],
   "source": []
  }
 ],
 "metadata": {
  "kernelspec": {
   "display_name": "Python 3 (ipykernel)",
   "language": "python",
   "name": "python3"
  },
  "language_info": {
   "codemirror_mode": {
    "name": "ipython",
    "version": 3
   },
   "file_extension": ".py",
   "mimetype": "text/x-python",
   "name": "python",
   "nbconvert_exporter": "python",
   "pygments_lexer": "ipython3",
   "version": "3.9.13"
  }
 },
 "nbformat": 4,
 "nbformat_minor": 5
}
